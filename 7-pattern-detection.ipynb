{
 "cells": [
  {
   "cell_type": "code",
   "execution_count": 1,
   "id": "f055c5ed",
   "metadata": {},
   "outputs": [],
   "source": [
    "import pipit\n",
    "import stumpy\n",
    "import matplotlib.pyplot as plt\n",
    "from matplotlib.patches import Rectangle\n",
    "\n",
    "import os \n",
    "os.environ[\"BOKEH_ALLOW_WS_ORIGIN\"] = \"127.0.0.1:8889\""
   ]
  },
  {
   "cell_type": "code",
   "execution_count": 3,
   "id": "9065c5d8",
   "metadata": {},
   "outputs": [],
   "source": [
    "trace = pipit.Trace.from_otf2(\n",
    "    \"/mnt/d/work/pipit-data/tortuga-otf2-16\"\n",
    ")\n",
    "trace.calc_exc_metrics()\n",
    "df = trace.events\n",
    "\n",
    "iterations = len(\n",
    "    df[\n",
    "        (df[\"Name\"] == \"time-loop\")\n",
    "        & (df[\"Event Type\"] == \"Enter\")\n",
    "        & (df[\"Process\"] == 0)\n",
    "    ]\n",
    ")\n",
    "\n",
    "first_loop_enter = df[\n",
    "    (df[\"Name\"] == \"time-loop\")\n",
    "    & (df[\"Event Type\"] == \"Enter\")\n",
    "    & (df[\"Process\"] == 0)\n",
    "].index[0]\n",
    "\n",
    "last_loop_leave = df[\n",
    "    (df[\"Name\"] == \"time-loop\")\n",
    "    & (df[\"Event Type\"] == \"Leave\")\n",
    "    & (df[\"Process\"] == 0)\n",
    "].index[-1]\n",
    "\n",
    "data = df.iloc[first_loop_enter + 1 : last_loop_leave]\n",
    "y = data.loc[(data[\"time.exc\"].notnull()) & (data[\"Process\"] == 0)][\"time.exc\"].values[:]\n",
    "window_size = int(len(y) / iterations)"
   ]
  },
  {
   "cell_type": "code",
   "execution_count": 4,
   "id": "01e84289",
   "metadata": {},
   "outputs": [
    {
     "data": {
      "text/html": [
       "<div>\n",
       "<style scoped>\n",
       "    .dataframe tbody tr th:only-of-type {\n",
       "        vertical-align: middle;\n",
       "    }\n",
       "\n",
       "    .dataframe tbody tr th {\n",
       "        vertical-align: top;\n",
       "    }\n",
       "\n",
       "    .dataframe thead th {\n",
       "        text-align: right;\n",
       "    }\n",
       "</style>\n",
       "<table border=\"1\" class=\"dataframe\">\n",
       "  <thead>\n",
       "    <tr style=\"text-align: right;\">\n",
       "      <th></th>\n",
       "      <th>Timestamp (ns)</th>\n",
       "      <th>Event Type</th>\n",
       "      <th>Name</th>\n",
       "      <th>Thread</th>\n",
       "      <th>Process</th>\n",
       "      <th>Attributes</th>\n",
       "      <th>_matching_event</th>\n",
       "      <th>_matching_timestamp</th>\n",
       "      <th>_depth</th>\n",
       "      <th>_parent</th>\n",
       "      <th>_children</th>\n",
       "      <th>time.inc</th>\n",
       "      <th>time.exc</th>\n",
       "    </tr>\n",
       "  </thead>\n",
       "  <tbody>\n",
       "    <tr>\n",
       "      <th>4319</th>\n",
       "      <td>8.582351e+08</td>\n",
       "      <td>Enter</td>\n",
       "      <td>advanceTimestep_RK3</td>\n",
       "      <td>0</td>\n",
       "      <td>0</td>\n",
       "      <td>{'region': 'Region 96'}</td>\n",
       "      <td>33886</td>\n",
       "      <td>1.016884e+09</td>\n",
       "      <td>2</td>\n",
       "      <td>4306</td>\n",
       "      <td>[4335, 13212, 14123, 23088, 23953, 32919, 33803]</td>\n",
       "      <td>1.586485e+08</td>\n",
       "      <td>4.300941e+06</td>\n",
       "    </tr>\n",
       "    <tr>\n",
       "      <th>34335</th>\n",
       "      <td>1.022223e+09</td>\n",
       "      <td>Enter</td>\n",
       "      <td>advanceTimestep_RK3</td>\n",
       "      <td>0</td>\n",
       "      <td>0</td>\n",
       "      <td>{'region': 'Region 96'}</td>\n",
       "      <td>63902</td>\n",
       "      <td>1.160285e+09</td>\n",
       "      <td>2</td>\n",
       "      <td>34307</td>\n",
       "      <td>[34351, 43422, 44321, 53268, 54189, 63101, 63899]</td>\n",
       "      <td>1.380618e+08</td>\n",
       "      <td>4.083088e+06</td>\n",
       "    </tr>\n",
       "    <tr>\n",
       "      <th>64351</th>\n",
       "      <td>1.164424e+09</td>\n",
       "      <td>Enter</td>\n",
       "      <td>advanceTimestep_RK3</td>\n",
       "      <td>0</td>\n",
       "      <td>0</td>\n",
       "      <td>{'region': 'Region 96'}</td>\n",
       "      <td>93918</td>\n",
       "      <td>1.302378e+09</td>\n",
       "      <td>2</td>\n",
       "      <td>64303</td>\n",
       "      <td>[64367, 73456, 74419, 83281, 84201, 93109, 93915]</td>\n",
       "      <td>1.379545e+08</td>\n",
       "      <td>3.910133e+06</td>\n",
       "    </tr>\n",
       "  </tbody>\n",
       "</table>\n",
       "</div>"
      ],
      "text/plain": [
       "       Timestamp (ns) Event Type                 Name Thread Process  \\\n",
       "4319     8.582351e+08      Enter  advanceTimestep_RK3      0       0   \n",
       "34335    1.022223e+09      Enter  advanceTimestep_RK3      0       0   \n",
       "64351    1.164424e+09      Enter  advanceTimestep_RK3      0       0   \n",
       "\n",
       "                    Attributes  _matching_event  _matching_timestamp _depth  \\\n",
       "4319   {'region': 'Region 96'}            33886         1.016884e+09      2   \n",
       "34335  {'region': 'Region 96'}            63902         1.160285e+09      2   \n",
       "64351  {'region': 'Region 96'}            93918         1.302378e+09      2   \n",
       "\n",
       "      _parent                                          _children  \\\n",
       "4319     4306   [4335, 13212, 14123, 23088, 23953, 32919, 33803]   \n",
       "34335   34307  [34351, 43422, 44321, 53268, 54189, 63101, 63899]   \n",
       "64351   64303  [64367, 73456, 74419, 83281, 84201, 93109, 93915]   \n",
       "\n",
       "           time.inc      time.exc  \n",
       "4319   1.586485e+08  4.300941e+06  \n",
       "34335  1.380618e+08  4.083088e+06  \n",
       "64351  1.379545e+08  3.910133e+06  "
      ]
     },
     "execution_count": 4,
     "metadata": {},
     "output_type": "execute_result"
    }
   ],
   "source": [
    "trace.detect_pattern(data, iterations=iterations, window_size=window_size, metric=\"time.exc\")"
   ]
  },
  {
   "cell_type": "code",
   "execution_count": 5,
   "id": "291ebde6",
   "metadata": {},
   "outputs": [
    {
     "data": {
      "text/html": [
       "\n",
       "                <style>\n",
       "                @import url('https://fonts.cdnfonts.com/css/gill-sans?styles=17575');\n",
       "                </style>\n",
       "                "
      ]
     },
     "metadata": {},
     "output_type": "display_data"
    },
    {
     "data": {
      "application/javascript": "(function(root) {\n  function now() {\n    return new Date();\n  }\n\n  const force = true;\n\n  if (typeof root._bokeh_onload_callbacks === \"undefined\" || force === true) {\n    root._bokeh_onload_callbacks = [];\n    root._bokeh_is_loading = undefined;\n  }\n\nconst JS_MIME_TYPE = 'application/javascript';\n  const HTML_MIME_TYPE = 'text/html';\n  const EXEC_MIME_TYPE = 'application/vnd.bokehjs_exec.v0+json';\n  const CLASS_NAME = 'output_bokeh rendered_html';\n\n  /**\n   * Render data to the DOM node\n   */\n  function render(props, node) {\n    const script = document.createElement(\"script\");\n    node.appendChild(script);\n  }\n\n  /**\n   * Handle when an output is cleared or removed\n   */\n  function handleClearOutput(event, handle) {\n    const cell = handle.cell;\n\n    const id = cell.output_area._bokeh_element_id;\n    const server_id = cell.output_area._bokeh_server_id;\n    // Clean up Bokeh references\n    if (id != null && id in Bokeh.index) {\n      Bokeh.index[id].model.document.clear();\n      delete Bokeh.index[id];\n    }\n\n    if (server_id !== undefined) {\n      // Clean up Bokeh references\n      const cmd_clean = \"from bokeh.io.state import curstate; print(curstate().uuid_to_server['\" + server_id + \"'].get_sessions()[0].document.roots[0]._id)\";\n      cell.notebook.kernel.execute(cmd_clean, {\n        iopub: {\n          output: function(msg) {\n            const id = msg.content.text.trim();\n            if (id in Bokeh.index) {\n              Bokeh.index[id].model.document.clear();\n              delete Bokeh.index[id];\n            }\n          }\n        }\n      });\n      // Destroy server and session\n      const cmd_destroy = \"import bokeh.io.notebook as ion; ion.destroy_server('\" + server_id + \"')\";\n      cell.notebook.kernel.execute(cmd_destroy);\n    }\n  }\n\n  /**\n   * Handle when a new output is added\n   */\n  function handleAddOutput(event, handle) {\n    const output_area = handle.output_area;\n    const output = handle.output;\n\n    // limit handleAddOutput to display_data with EXEC_MIME_TYPE content only\n    if ((output.output_type != \"display_data\") || (!Object.prototype.hasOwnProperty.call(output.data, EXEC_MIME_TYPE))) {\n      return\n    }\n\n    const toinsert = output_area.element.find(\".\" + CLASS_NAME.split(' ')[0]);\n\n    if (output.metadata[EXEC_MIME_TYPE][\"id\"] !== undefined) {\n      toinsert[toinsert.length - 1].firstChild.textContent = output.data[JS_MIME_TYPE];\n      // store reference to embed id on output_area\n      output_area._bokeh_element_id = output.metadata[EXEC_MIME_TYPE][\"id\"];\n    }\n    if (output.metadata[EXEC_MIME_TYPE][\"server_id\"] !== undefined) {\n      const bk_div = document.createElement(\"div\");\n      bk_div.innerHTML = output.data[HTML_MIME_TYPE];\n      const script_attrs = bk_div.children[0].attributes;\n      for (let i = 0; i < script_attrs.length; i++) {\n        toinsert[toinsert.length - 1].firstChild.setAttribute(script_attrs[i].name, script_attrs[i].value);\n        toinsert[toinsert.length - 1].firstChild.textContent = bk_div.children[0].textContent\n      }\n      // store reference to server id on output_area\n      output_area._bokeh_server_id = output.metadata[EXEC_MIME_TYPE][\"server_id\"];\n    }\n  }\n\n  function register_renderer(events, OutputArea) {\n\n    function append_mime(data, metadata, element) {\n      // create a DOM node to render to\n      const toinsert = this.create_output_subarea(\n        metadata,\n        CLASS_NAME,\n        EXEC_MIME_TYPE\n      );\n      this.keyboard_manager.register_events(toinsert);\n      // Render to node\n      const props = {data: data, metadata: metadata[EXEC_MIME_TYPE]};\n      render(props, toinsert[toinsert.length - 1]);\n      element.append(toinsert);\n      return toinsert\n    }\n\n    /* Handle when an output is cleared or removed */\n    events.on('clear_output.CodeCell', handleClearOutput);\n    events.on('delete.Cell', handleClearOutput);\n\n    /* Handle when a new output is added */\n    events.on('output_added.OutputArea', handleAddOutput);\n\n    /**\n     * Register the mime type and append_mime function with output_area\n     */\n    OutputArea.prototype.register_mime_type(EXEC_MIME_TYPE, append_mime, {\n      /* Is output safe? */\n      safe: true,\n      /* Index of renderer in `output_area.display_order` */\n      index: 0\n    });\n  }\n\n  // register the mime type if in Jupyter Notebook environment and previously unregistered\n  if (root.Jupyter !== undefined) {\n    const events = require('base/js/events');\n    const OutputArea = require('notebook/js/outputarea').OutputArea;\n\n    if (OutputArea.prototype.mime_types().indexOf(EXEC_MIME_TYPE) == -1) {\n      register_renderer(events, OutputArea);\n    }\n  }\n  if (typeof (root._bokeh_timeout) === \"undefined\" || force === true) {\n    root._bokeh_timeout = Date.now() + 5000;\n    root._bokeh_failed_load = false;\n  }\n\n  const NB_LOAD_WARNING = {'data': {'text/html':\n     \"<div style='background-color: #fdd'>\\n\"+\n     \"<p>\\n\"+\n     \"BokehJS does not appear to have successfully loaded. If loading BokehJS from CDN, this \\n\"+\n     \"may be due to a slow or bad network connection. Possible fixes:\\n\"+\n     \"</p>\\n\"+\n     \"<ul>\\n\"+\n     \"<li>re-rerun `output_notebook()` to attempt to load from CDN again, or</li>\\n\"+\n     \"<li>use INLINE resources instead, as so:</li>\\n\"+\n     \"</ul>\\n\"+\n     \"<code>\\n\"+\n     \"from bokeh.resources import INLINE\\n\"+\n     \"output_notebook(resources=INLINE)\\n\"+\n     \"</code>\\n\"+\n     \"</div>\"}};\n\n  function display_loaded() {\n    const el = document.getElementById(null);\n    if (el != null) {\n      el.textContent = \"BokehJS is loading...\";\n    }\n    if (root.Bokeh !== undefined) {\n      if (el != null) {\n        el.textContent = \"BokehJS \" + root.Bokeh.version + \" successfully loaded.\";\n      }\n    } else if (Date.now() < root._bokeh_timeout) {\n      setTimeout(display_loaded, 100)\n    }\n  }\n\n  function run_callbacks() {\n    try {\n      root._bokeh_onload_callbacks.forEach(function(callback) {\n        if (callback != null)\n          callback();\n      });\n    } finally {\n      delete root._bokeh_onload_callbacks\n    }\n    console.debug(\"Bokeh: all callbacks have finished\");\n  }\n\n  function load_libs(css_urls, js_urls, callback) {\n    if (css_urls == null) css_urls = [];\n    if (js_urls == null) js_urls = [];\n\n    root._bokeh_onload_callbacks.push(callback);\n    if (root._bokeh_is_loading > 0) {\n      console.debug(\"Bokeh: BokehJS is being loaded, scheduling callback at\", now());\n      return null;\n    }\n    if (js_urls == null || js_urls.length === 0) {\n      run_callbacks();\n      return null;\n    }\n    console.debug(\"Bokeh: BokehJS not loaded, scheduling load and callback at\", now());\n    root._bokeh_is_loading = css_urls.length + js_urls.length;\n\n    function on_load() {\n      root._bokeh_is_loading--;\n      if (root._bokeh_is_loading === 0) {\n        console.debug(\"Bokeh: all BokehJS libraries/stylesheets loaded\");\n        run_callbacks()\n      }\n    }\n\n    function on_error(url) {\n      console.error(\"failed to load \" + url);\n    }\n\n    for (let i = 0; i < css_urls.length; i++) {\n      const url = css_urls[i];\n      const element = document.createElement(\"link\");\n      element.onload = on_load;\n      element.onerror = on_error.bind(null, url);\n      element.rel = \"stylesheet\";\n      element.type = \"text/css\";\n      element.href = url;\n      console.debug(\"Bokeh: injecting link tag for BokehJS stylesheet: \", url);\n      document.body.appendChild(element);\n    }\n\n    for (let i = 0; i < js_urls.length; i++) {\n      const url = js_urls[i];\n      const element = document.createElement('script');\n      element.onload = on_load;\n      element.onerror = on_error.bind(null, url);\n      element.async = false;\n      element.src = url;\n      console.debug(\"Bokeh: injecting script tag for BokehJS library: \", url);\n      document.head.appendChild(element);\n    }\n  };\n\n  function inject_raw_css(css) {\n    const element = document.createElement(\"style\");\n    element.appendChild(document.createTextNode(css));\n    document.body.appendChild(element);\n  }\n\n  const js_urls = [\"https://cdn.bokeh.org/bokeh/release/bokeh-2.4.3.min.js\", \"https://cdn.bokeh.org/bokeh/release/bokeh-gl-2.4.3.min.js\", \"https://cdn.bokeh.org/bokeh/release/bokeh-widgets-2.4.3.min.js\", \"https://cdn.bokeh.org/bokeh/release/bokeh-tables-2.4.3.min.js\", \"https://cdn.bokeh.org/bokeh/release/bokeh-mathjax-2.4.3.min.js\"];\n  const css_urls = [];\n\n  const inline_js = [    function(Bokeh) {\n      Bokeh.set_log_level(\"info\");\n    },\nfunction(Bokeh) {\n    }\n  ];\n\n  function run_inline_js() {\n    if (root.Bokeh !== undefined || force === true) {\n          for (let i = 0; i < inline_js.length; i++) {\n      inline_js[i].call(root, root.Bokeh);\n    }\n} else if (Date.now() < root._bokeh_timeout) {\n      setTimeout(run_inline_js, 100);\n    } else if (!root._bokeh_failed_load) {\n      console.log(\"Bokeh: BokehJS failed to load within specified timeout.\");\n      root._bokeh_failed_load = true;\n    } else if (force !== true) {\n      const cell = $(document.getElementById(null)).parents('.cell').data().cell;\n      cell.output_area.append_execute_result(NB_LOAD_WARNING)\n    }\n  }\n\n  if (root._bokeh_is_loading === 0) {\n    console.debug(\"Bokeh: BokehJS loaded, going straight to plotting\");\n    run_inline_js();\n  } else {\n    load_libs(css_urls, js_urls, function() {\n      console.debug(\"Bokeh: BokehJS plotting callback run at\", now());\n      run_inline_js();\n    });\n  }\n}(window));",
      "application/vnd.bokehjs_load.v0+json": ""
     },
     "metadata": {},
     "output_type": "display_data"
    },
    {
     "data": {
      "application/vnd.bokehjs_exec.v0+json": "",
      "text/html": [
       "<script id=\"1099\">\n",
       "  (function() {\n",
       "    const xhr = new XMLHttpRequest()\n",
       "    xhr.responseType = 'blob';\n",
       "    xhr.open('GET', \"http://localhost:37809/autoload.js?bokeh-autoload-element=1099&bokeh-absolute-url=http://localhost:37809&resources=none\", true);\n",
       "    xhr.onload = function (event) {\n",
       "      const script = document.createElement('script');\n",
       "      const src = URL.createObjectURL(event.target.response);\n",
       "      script.src = src;\n",
       "      document.body.appendChild(script);\n",
       "    };\n",
       "    xhr.send();\n",
       "  })();\n",
       "</script>"
      ]
     },
     "metadata": {
      "application/vnd.bokehjs_exec.v0+json": {
       "server_id": "626a7a0edf334fffae9fccea3edc626d"
      }
     },
     "output_type": "display_data"
    }
   ],
   "source": [
    "trace.plot_timeline()"
   ]
  }
 ],
 "metadata": {
  "kernelspec": {
   "display_name": "Python 3",
   "language": "python",
   "name": "python3"
  },
  "language_info": {
   "codemirror_mode": {
    "name": "ipython",
    "version": 3
   },
   "file_extension": ".py",
   "mimetype": "text/x-python",
   "name": "python",
   "nbconvert_exporter": "python",
   "pygments_lexer": "ipython3",
   "version": "3.7.7"
  }
 },
 "nbformat": 4,
 "nbformat_minor": 5
}
