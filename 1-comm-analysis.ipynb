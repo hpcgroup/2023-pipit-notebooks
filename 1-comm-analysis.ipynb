{
 "cells": [
  {
   "cell_type": "code",
   "execution_count": 28,
   "id": "fa1df121",
   "metadata": {},
   "outputs": [
    {
     "name": "stdout",
     "output_type": "stream",
     "text": [
      "The autoreload extension is already loaded. To reload it, use:\n",
      "  %reload_ext autoreload\n"
     ]
    }
   ],
   "source": [
    "# Setup\n",
    "%load_ext autoreload\n",
    "%autoreload 2\n",
    "\n",
    "import sys\n",
    "\n",
    "sys.path.append(\"../pipit\")\n",
    "import pipit as pp\n",
    "from pipit.plotting import _util\n",
    "_util.theme = \"paper\""
   ]
  },
  {
   "cell_type": "code",
   "execution_count": null,
   "id": "af35580c",
   "metadata": {},
   "outputs": [],
   "source": [
    "import pipit as pp\n",
    "laghos = pp.Trace.from_otf2(\"../otf2-mpi-only-traces/laghos/32\")"
   ]
  },
  {
   "cell_type": "code",
   "execution_count": null,
   "id": "8022a178",
   "metadata": {},
   "outputs": [],
   "source": [
    "laghos.plot_comm_matrix()"
   ]
  },
  {
   "cell_type": "code",
   "execution_count": null,
   "id": "d4a70aad",
   "metadata": {
    "scrolled": false
   },
   "outputs": [],
   "source": [
    "laghos.plot_message_histogram(bins=50)"
   ]
  },
  {
   "cell_type": "code",
   "execution_count": null,
   "id": "f0ff73ff",
   "metadata": {},
   "outputs": [],
   "source": [
    "laghos.plot_comm_over_time(bins=20)"
   ]
  }
 ],
 "metadata": {
  "kernelspec": {
   "display_name": "Python 3 (ipykernel)",
   "language": "python",
   "name": "python3"
  },
  "language_info": {
   "codemirror_mode": {
    "name": "ipython",
    "version": 3
   },
   "file_extension": ".py",
   "mimetype": "text/x-python",
   "name": "python",
   "nbconvert_exporter": "python",
   "pygments_lexer": "ipython3",
   "version": "3.8.10"
  }
 },
 "nbformat": 4,
 "nbformat_minor": 5
}
