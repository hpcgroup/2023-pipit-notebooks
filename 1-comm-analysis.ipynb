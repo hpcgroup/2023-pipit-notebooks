{
 "cells": [
  {
   "cell_type": "code",
   "execution_count": null,
   "id": "74e268e7",
   "metadata": {},
   "outputs": [],
   "source": [
    "%load_ext autoreload\n",
    "%autoreload 2\n",
    "\n",
    "import sys\n",
    "\n",
    "sys.path.append(\"../pipit\")"
   ]
  },
  {
   "cell_type": "code",
   "execution_count": null,
   "id": "ff940104",
   "metadata": {},
   "outputs": [],
   "source": [
    "import pipit as pp\n",
    "from pipit.plotting import _util\n",
    "from pipit.plotting.core import messages_over_time, comm_profile\n",
    "_util.theme = \"paper\""
   ]
  },
  {
   "cell_type": "code",
   "execution_count": null,
   "id": "bd007a44",
   "metadata": {},
   "outputs": [],
   "source": [
    "amg_16 = pp.Trace.from_otf2(\"../otf2-mpi-only-traces/amg/16\")"
   ]
  },
  {
   "cell_type": "code",
   "execution_count": null,
   "id": "b38e104b",
   "metadata": {},
   "outputs": [],
   "source": [
    "amg_16.plot_message_histogram(bins=50)"
   ]
  },
  {
   "cell_type": "code",
   "execution_count": null,
   "id": "b826ca5b",
   "metadata": {},
   "outputs": [],
   "source": [
    "amg_16.plot_comm_matrix(mapping=\"log\")"
   ]
  },
  {
   "cell_type": "code",
   "execution_count": null,
   "id": "c09ec7c8",
   "metadata": {},
   "outputs": [],
   "source": [
    "messages_over_time(amg_16)"
   ]
  },
  {
   "cell_type": "code",
   "execution_count": null,
   "id": "f137ee37",
   "metadata": {},
   "outputs": [],
   "source": [
    "comm_profile(amg_16)"
   ]
  },
  {
   "cell_type": "code",
   "execution_count": null,
   "id": "4b2a1dd0",
   "metadata": {},
   "outputs": [],
   "source": [
    "kripke_32 = pp.Trace.from_otf2(\"../otf2-mpi-only-traces/kripke/32\")"
   ]
  },
  {
   "cell_type": "code",
   "execution_count": null,
   "id": "2a000611",
   "metadata": {},
   "outputs": [],
   "source": [
    "kripke_32.plot_message_histogram(bins=50)"
   ]
  },
  {
   "cell_type": "code",
   "execution_count": null,
   "id": "de4b3bdc",
   "metadata": {},
   "outputs": [],
   "source": [
    "kripke_32.plot_comm_matrix(mapping=\"log\")"
   ]
  },
  {
   "cell_type": "code",
   "execution_count": null,
   "id": "1df97b1e",
   "metadata": {},
   "outputs": [],
   "source": [
    "messages_over_time(kripke_32)"
   ]
  },
  {
   "cell_type": "code",
   "execution_count": null,
   "id": "c295f253",
   "metadata": {},
   "outputs": [],
   "source": [
    "comm_profile(kripke_32)"
   ]
  },
  {
   "cell_type": "code",
   "execution_count": null,
   "id": "42ebbb77",
   "metadata": {},
   "outputs": [],
   "source": [
    "laghos_32 = pp.Trace.from_otf2(\"../otf2-mpi-only-traces/laghos/32\")"
   ]
  },
  {
   "cell_type": "code",
   "execution_count": null,
   "id": "2e28b266",
   "metadata": {
    "scrolled": false
   },
   "outputs": [],
   "source": [
    "laghos_32.plot_message_histogram(bins=50)"
   ]
  },
  {
   "cell_type": "code",
   "execution_count": null,
   "id": "244a0483",
   "metadata": {},
   "outputs": [],
   "source": [
    "laghos_32.plot_comm_matrix(mapping=\"log\")"
   ]
  },
  {
   "cell_type": "code",
   "execution_count": null,
   "id": "ee3aca63",
   "metadata": {},
   "outputs": [],
   "source": [
    "messages_over_time(laghos_32)"
   ]
  },
  {
   "cell_type": "code",
   "execution_count": null,
   "id": "6a7b5ea7",
   "metadata": {},
   "outputs": [],
   "source": [
    "comm_profile(laghos_32)"
   ]
  },
  {
   "cell_type": "code",
   "execution_count": null,
   "id": "09340025",
   "metadata": {},
   "outputs": [],
   "source": [
    "sw4lite_256 = pp.Trace.from_otf2(\"../otf2-mpi-only-traces/sw4lite/256/\")"
   ]
  },
  {
   "cell_type": "code",
   "execution_count": null,
   "id": "8d16de3f",
   "metadata": {
    "scrolled": false
   },
   "outputs": [],
   "source": [
    "sw4lite_256.plot_comm_matrix()"
   ]
  },
  {
   "cell_type": "code",
   "execution_count": null,
   "id": "6e650b31",
   "metadata": {},
   "outputs": [],
   "source": [
    "sw4lite_256.plot_message_histogram(bins=50)"
   ]
  },
  {
   "cell_type": "code",
   "execution_count": null,
   "id": "213cd58e",
   "metadata": {},
   "outputs": [],
   "source": [
    "messages_over_time(sw4lite_256)"
   ]
  }
 ],
 "metadata": {
  "kernelspec": {
   "display_name": "Python 3 (ipykernel)",
   "language": "python",
   "name": "python3"
  },
  "language_info": {
   "codemirror_mode": {
    "name": "ipython",
    "version": 3
   },
   "file_extension": ".py",
   "mimetype": "text/x-python",
   "name": "python",
   "nbconvert_exporter": "python",
   "pygments_lexer": "ipython3",
   "version": "3.8.10"
  }
 },
 "nbformat": 4,
 "nbformat_minor": 5
}
