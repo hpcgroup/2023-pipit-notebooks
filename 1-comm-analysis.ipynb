{
 "cells": [
  {
   "cell_type": "code",
   "execution_count": null,
   "id": "9f5bcca2",
   "metadata": {},
   "outputs": [],
   "source": [
    "%load_ext autoreload\n",
    "%autoreload 2\n",
    "\n",
    "import sys\n",
    "\n",
    "sys.path.append(\"../pipit\")"
   ]
  },
  {
   "cell_type": "code",
   "execution_count": null,
   "id": "10b3c4eb",
   "metadata": {},
   "outputs": [],
   "source": [
    "import pipit as pp\n",
    "\n",
    "# ping_pong = pp.Trace.from_otf2(\"../pipit/pipit/tests/data/ping-pong-otf2/\")"
   ]
  },
  {
   "cell_type": "code",
   "execution_count": null,
   "id": "ffe01551",
   "metadata": {},
   "outputs": [],
   "source": [
    "amg_16 = pp.Trace.from_otf2(\"../otf2-mpi-only-traces/amg/16\")\n",
    "kripke_32 = pp.Trace.from_otf2(\"../otf2-mpi-only-traces/kripke/32\")\n",
    "laghos_32 = pp.Trace.from_otf2(\"../otf2-mpi-only-traces/laghos/32/\")"
   ]
  },
  {
   "cell_type": "code",
   "execution_count": null,
   "id": "38fe64a7",
   "metadata": {},
   "outputs": [],
   "source": [
    "amg_16.plot_message_histogram()"
   ]
  },
  {
   "cell_type": "code",
   "execution_count": null,
   "id": "ba3c19e6",
   "metadata": {},
   "outputs": [],
   "source": [
    "amg_16.plot_comm_matrix()"
   ]
  },
  {
   "cell_type": "code",
   "execution_count": null,
   "id": "47130b00",
   "metadata": {},
   "outputs": [],
   "source": [
    "kripke_32.plot_message_histogram()"
   ]
  },
  {
   "cell_type": "code",
   "execution_count": null,
   "id": "a109e7ac",
   "metadata": {},
   "outputs": [],
   "source": [
    "kripke_32.plot_comm_matrix()"
   ]
  },
  {
   "cell_type": "code",
   "execution_count": null,
   "id": "bde0eed4",
   "metadata": {},
   "outputs": [],
   "source": [
    "laghos_32.plot_message_histogram()"
   ]
  },
  {
   "cell_type": "code",
   "execution_count": null,
   "id": "616e7837",
   "metadata": {},
   "outputs": [],
   "source": [
    "laghos_32.plot_comm_matrix()"
   ]
  }
 ],
 "metadata": {
  "kernelspec": {
   "display_name": "Python 3 (ipykernel)",
   "language": "python",
   "name": "python3"
  },
  "language_info": {
   "codemirror_mode": {
    "name": "ipython",
    "version": 3
   },
   "file_extension": ".py",
   "mimetype": "text/x-python",
   "name": "python",
   "nbconvert_exporter": "python",
   "pygments_lexer": "ipython3",
   "version": "3.8.10"
  }
 },
 "nbformat": 4,
 "nbformat_minor": 5
}
