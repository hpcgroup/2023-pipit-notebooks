{
 "cells": [
  {
   "cell_type": "code",
   "execution_count": 28,
   "id": "61b51eb5",
   "metadata": {},
   "outputs": [],
   "source": [
    "import pipit\n",
    "import stumpy\n",
    "import matplotlib.pyplot as plt\n",
    "from matplotlib.patches import Rectangle"
   ]
  },
  {
   "cell_type": "code",
   "execution_count": 21,
   "id": "71ff015b",
   "metadata": {},
   "outputs": [],
   "source": [
    "trace = pipit.Trace.from_otf2(\n",
    "    \"/mnt/d/work/pipit-data/tortuga-otf2-16\"\n",
    ")\n",
    "trace.calc_exc_metrics()\n",
    "df = trace.events"
   ]
  },
  {
   "cell_type": "code",
   "execution_count": 22,
   "id": "58183e28",
   "metadata": {},
   "outputs": [
    {
     "data": {
      "text/plain": [
       "3"
      ]
     },
     "execution_count": 22,
     "metadata": {},
     "output_type": "execute_result"
    }
   ],
   "source": [
    "iterations = len(\n",
    "    df[\n",
    "        (df[\"Name\"] == \"time-loop\")\n",
    "        & (df[\"Event Type\"] == \"Enter\")\n",
    "        & (df[\"Process\"] == 0)\n",
    "    ]\n",
    ")\n",
    "iterations"
   ]
  },
  {
   "cell_type": "code",
   "execution_count": 23,
   "id": "04c1223d",
   "metadata": {},
   "outputs": [],
   "source": [
    "first_loop_enter = df[\n",
    "    (df[\"Name\"] == \"time-loop\")\n",
    "    & (df[\"Event Type\"] == \"Enter\")\n",
    "    & (df[\"Process\"] == 0)\n",
    "].index[0]\n",
    "\n",
    "last_loop_leave = df[\n",
    "    (df[\"Name\"] == \"time-loop\")\n",
    "    & (df[\"Event Type\"] == \"Leave\")\n",
    "    & (df[\"Process\"] == 0)\n",
    "].index[-1]\n",
    "\n",
    "df = df.iloc[first_loop_enter + 1 : last_loop_leave]\n",
    "filtered_df = df.loc[(df[\"time.exc\"].notnull()) & (df[\"Process\"] == 0)] \n",
    "\n",
    "y = df.loc[(df[\"time.exc\"].notnull()) & (df[\"Process\"] == 0)][\"time.exc\"].values[:]\n",
    "\n",
    "window_size = int(len(y) / iterations)"
   ]
  },
  {
   "cell_type": "code",
   "execution_count": 24,
   "id": "78c67e99",
   "metadata": {},
   "outputs": [],
   "source": [
    "matrix_profile = stumpy.stump(y, window_size)\n",
    "dists, indices = stumpy.motifs(y, matrix_profile[:, 0], max_matches=iterations)"
   ]
  },
  {
   "cell_type": "code",
   "execution_count": 31,
   "id": "c813169e",
   "metadata": {},
   "outputs": [
    {
     "name": "stderr",
     "output_type": "stream",
     "text": [
      "/home/ocankur/.pyenv/versions/3.7.7/lib/python3.7/site-packages/ipykernel_launcher.py:2: SettingWithCopyWarning: \n",
      "A value is trying to be set on a copy of a slice from a DataFrame.\n",
      "Try using .loc[row_indexer,col_indexer] = value instead\n",
      "\n",
      "See the caveats in the documentation: https://pandas.pydata.org/pandas-docs/stable/user_guide/indexing.html#returning-a-view-versus-a-copy\n",
      "  \n"
     ]
    },
    {
     "data": {
      "text/plain": [
       "[<matplotlib.lines.Line2D at 0x7fb294411550>]"
      ]
     },
     "execution_count": 31,
     "metadata": {},
     "output_type": "execute_result"
    },
    {
     "data": {
      "image/png": "[encoded data removed]",
      "text/plain": [
       "<Figure size 432x288 with 2 Axes>"
      ]
     },
     "metadata": {
      "needs_background": "light"
     },
     "output_type": "display_data"
    }
   ],
   "source": [
    "fig, axs = plt.subplots(2, sharex=True, gridspec_kw={\"hspace\": 0})\n",
    "df[\"time.exc\"] = df[\"time.exc\"].div(1e6)\n",
    "\n",
    "axs[0].plot(y)\n",
    "axs[0].set_ylabel(\"Time (ms)\")\n",
    "\n",
    "for idx in indices[0]:\n",
    "    rect = Rectangle((idx, 0), window_size * 0.98, y.max(), fill=True, facecolor=\"lightgrey\")\n",
    "    axs[0].add_patch(rect)\n",
    "\n",
    "axs[1].set_xlabel(\"Index\")\n",
    "axs[1].set_ylabel(\"Matrix Profile\")\n",
    "\n",
    "for idx in indices[0]:\n",
    "    axs[1].axvline(x=idx, linestyle=\"dashed\")\n",
    "\n",
    "axs[1].plot(matrix_profile[:, 0])"
   ]
  }
 ],
 "metadata": {
  "kernelspec": {
   "display_name": "Python 3",
   "language": "python",
   "name": "python3"
  },
  "language_info": {
   "codemirror_mode": {
    "name": "ipython",
    "version": 3
   },
   "file_extension": ".py",
   "mimetype": "text/x-python",
   "name": "python",
   "nbconvert_exporter": "python",
   "pygments_lexer": "ipython3",
   "version": "3.7.7"
  }
 },
 "nbformat": 4,
 "nbformat_minor": 5
}
