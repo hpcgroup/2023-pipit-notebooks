{
 "cells": [
  {
   "cell_type": "code",
   "execution_count": 1,
   "metadata": {},
   "outputs": [],
   "source": [
    "import sys\n",
    "sys.path.append(\"/Users/adi/School/Research/pipit\")\n",
    "import pipit"
   ]
  },
  {
   "cell_type": "code",
   "execution_count": 2,
   "metadata": {},
   "outputs": [
    {
     "data": {
      "text/html": [
       "<div>\n",
       "<style scoped>\n",
       "    .dataframe tbody tr th:only-of-type {\n",
       "        vertical-align: middle;\n",
       "    }\n",
       "\n",
       "    .dataframe tbody tr th {\n",
       "        vertical-align: top;\n",
       "    }\n",
       "\n",
       "    .dataframe thead th {\n",
       "        text-align: right;\n",
       "    }\n",
       "</style>\n",
       "<table border=\"1\" class=\"dataframe\">\n",
       "  <thead>\n",
       "    <tr style=\"text-align: right;\">\n",
       "      <th></th>\n",
       "      <th>time.exc.imbalance</th>\n",
       "      <th>Top processes</th>\n",
       "      <th>time.exc.mean</th>\n",
       "    </tr>\n",
       "  </thead>\n",
       "  <tbody>\n",
       "    <tr>\n",
       "      <th>ReceiveVisitMessages(const VisitMessage &amp;impl_noname_1)</th>\n",
       "      <td>2.235940</td>\n",
       "      <td>[24, 21, 23, 22, 29]</td>\n",
       "      <td>1.822500e+03</td>\n",
       "    </tr>\n",
       "    <tr>\n",
       "      <th>ComputeInteractions()</th>\n",
       "      <td>1.985484</td>\n",
       "      <td>[21, 37, 29, 22, 23]</td>\n",
       "      <td>1.254858e+04</td>\n",
       "    </tr>\n",
       "    <tr>\n",
       "      <th>SendVisitMessages()</th>\n",
       "      <td>1.758879</td>\n",
       "      <td>[22, 23, 28, 35, 31]</td>\n",
       "      <td>9.691400e+03</td>\n",
       "    </tr>\n",
       "    <tr>\n",
       "      <th>Idle</th>\n",
       "      <td>1.291811</td>\n",
       "      <td>[110, 127, 124, 103, 105]</td>\n",
       "      <td>4.900719e+04</td>\n",
       "    </tr>\n",
       "    <tr>\n",
       "      <th>Computation</th>\n",
       "      <td>1.000056</td>\n",
       "      <td>[46, 84, 86, 70, 7]</td>\n",
       "      <td>1.316492e+06</td>\n",
       "    </tr>\n",
       "  </tbody>\n",
       "</table>\n",
       "</div>"
      ],
      "text/plain": [
       "                                                    time.exc.imbalance  \\\n",
       "ReceiveVisitMessages(const VisitMessage &impl_n...            2.235940   \n",
       "ComputeInteractions()                                         1.985484   \n",
       "SendVisitMessages()                                           1.758879   \n",
       "Idle                                                          1.291811   \n",
       "Computation                                                   1.000056   \n",
       "\n",
       "                                                                Top processes  \\\n",
       "ReceiveVisitMessages(const VisitMessage &impl_n...       [24, 21, 23, 22, 29]   \n",
       "ComputeInteractions()                                    [21, 37, 29, 22, 23]   \n",
       "SendVisitMessages()                                      [22, 23, 28, 35, 31]   \n",
       "Idle                                                [110, 127, 124, 103, 105]   \n",
       "Computation                                               [46, 84, 86, 70, 7]   \n",
       "\n",
       "                                                    time.exc.mean  \n",
       "ReceiveVisitMessages(const VisitMessage &impl_n...   1.822500e+03  \n",
       "ComputeInteractions()                                1.254858e+04  \n",
       "SendVisitMessages()                                  9.691400e+03  \n",
       "Idle                                                 4.900719e+04  \n",
       "Computation                                          1.316492e+06  "
      ]
     },
     "execution_count": 2,
     "metadata": {},
     "output_type": "execute_result"
    }
   ],
   "source": [
    "trace = pipit.Trace.from_projections(\"/Users/adi/Downloads/loimos-proj-coc-128\")\n",
    "\n",
    "trace.calc_exc_metrics()\n",
    "imbalance_df = trace.load_imbalance(num_processes=5).iloc[0:5].sort_values(by=\"time.exc.imbalance\", ascending=False)\n",
    "imbalance_df"
   ]
  },
  {
   "cell_type": "code",
   "execution_count": null,
   "metadata": {},
   "outputs": [],
   "source": []
  }
 ],
 "metadata": {
  "kernelspec": {
   "display_name": "Python 3 (ipykernel)",
   "language": "python",
   "name": "python3"
  },
  "language_info": {
   "codemirror_mode": {
    "name": "ipython",
    "version": 3
   },
   "file_extension": ".py",
   "mimetype": "text/x-python",
   "name": "python",
   "nbconvert_exporter": "python",
   "pygments_lexer": "ipython3",
   "version": "3.10.4"
  }
 },
 "nbformat": 4,
 "nbformat_minor": 2
}
