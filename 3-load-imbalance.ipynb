{
 "cells": [
  {
   "cell_type": "code",
   "execution_count": 24,
   "metadata": {},
   "outputs": [],
   "source": [
    "import sys\n",
    "sys.path.append(\"/Users/adi/School/Research/pipit\")\n",
    "import pipit"
   ]
  },
  {
   "cell_type": "code",
   "execution_count": 25,
   "metadata": {},
   "outputs": [
    {
     "name": "stdout",
     "output_type": "stream",
     "text": [
      "Five most time consuming functions: ['Computation', 'ComputeInteractions()', 'ComputedInteractions()', 'EndOfDayStateUpdate()', 'Idle']\n"
     ]
    },
    {
     "data": {
      "text/html": [
       "<div>\n",
       "<style scoped>\n",
       "    .dataframe tbody tr th:only-of-type {\n",
       "        vertical-align: middle;\n",
       "    }\n",
       "\n",
       "    .dataframe tbody tr th {\n",
       "        vertical-align: top;\n",
       "    }\n",
       "\n",
       "    .dataframe thead th {\n",
       "        text-align: right;\n",
       "    }\n",
       "</style>\n",
       "<table border=\"1\" class=\"dataframe\">\n",
       "  <thead>\n",
       "    <tr style=\"text-align: right;\">\n",
       "      <th></th>\n",
       "      <th>time.exc.imbalance</th>\n",
       "      <th>Top processes</th>\n",
       "    </tr>\n",
       "  </thead>\n",
       "  <tbody>\n",
       "    <tr>\n",
       "      <th>ComputeInteractions()</th>\n",
       "      <td>1.985484</td>\n",
       "      <td>[21, 37, 29, 22, 23]</td>\n",
       "    </tr>\n",
       "    <tr>\n",
       "      <th>Idle</th>\n",
       "      <td>1.291811</td>\n",
       "      <td>[110, 127, 124, 103, 105]</td>\n",
       "    </tr>\n",
       "    <tr>\n",
       "      <th>EndOfDayStateUpdate()</th>\n",
       "      <td>1.181584</td>\n",
       "      <td>[21, 17, 18, 31, 33]</td>\n",
       "    </tr>\n",
       "    <tr>\n",
       "      <th>Computation</th>\n",
       "      <td>1.000056</td>\n",
       "      <td>[46, 84, 86, 70, 7]</td>\n",
       "    </tr>\n",
       "    <tr>\n",
       "      <th>ComputedInteractions()</th>\n",
       "      <td>1.000000</td>\n",
       "      <td>[0]</td>\n",
       "    </tr>\n",
       "  </tbody>\n",
       "</table>\n",
       "</div>"
      ],
      "text/plain": [
       "                        time.exc.imbalance              Top processes\n",
       "ComputeInteractions()             1.985484       [21, 37, 29, 22, 23]\n",
       "Idle                              1.291811  [110, 127, 124, 103, 105]\n",
       "EndOfDayStateUpdate()             1.181584       [21, 17, 18, 31, 33]\n",
       "Computation                       1.000056        [46, 84, 86, 70, 7]\n",
       "ComputedInteractions()            1.000000                        [0]"
      ]
     },
     "execution_count": 25,
     "metadata": {},
     "output_type": "execute_result"
    }
   ],
   "source": [
    "trace = pipit.Trace.from_projections(\"/Users/adi/Downloads/loimos-proj-coc-128\")\n",
    "\n",
    "trace.calc_exc_metrics()\n",
    "\n",
    "flat_profile = trace.flat_profile()\n",
    "top_5 = list(flat_profile.iloc[0:5].index)\n",
    "print(\"Five most time consuming functions: \" + str(top_5))\n",
    "\n",
    "imbalance_df = trace.load_imbalance(num_processes=5)\n",
    "imbalance_df = imbalance_df.loc[imbalance_df.index.isin(top_5)]\n",
    "\n",
    "imbalance_df"
   ]
  }
 ],
 "metadata": {
  "kernelspec": {
   "display_name": "Python 3 (ipykernel)",
   "language": "python",
   "name": "python3"
  },
  "language_info": {
   "codemirror_mode": {
    "name": "ipython",
    "version": 3
   },
   "file_extension": ".py",
   "mimetype": "text/x-python",
   "name": "python",
   "nbconvert_exporter": "python",
   "pygments_lexer": "ipython3",
   "version": "3.10.4"
  }
 },
 "nbformat": 4,
 "nbformat_minor": 2
}
